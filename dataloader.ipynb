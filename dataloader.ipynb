{
 "cells": [
  {
   "cell_type": "code",
   "execution_count": 2,
   "metadata": {},
   "outputs": [],
   "source": [
    "import os\n",
    "from datasets import load_dataset"
   ]
  },
  {
   "cell_type": "code",
   "execution_count": 3,
   "metadata": {},
   "outputs": [
    {
     "name": "stderr",
     "output_type": "stream",
     "text": [
      "Downloading readme: 100%|██████████| 3.80k/3.80k [00:00<00:00, 16.5kB/s]\n",
      "Downloading data: 100%|██████████| 208M/208M [00:21<00:00, 9.70MB/s] \n",
      "Downloading data: 100%|██████████| 207M/207M [00:13<00:00, 15.8MB/s] \n",
      "Downloading data: 100%|██████████| 205M/205M [00:12<00:00, 16.0MB/s] \n",
      "Downloading data: 100%|██████████| 210M/210M [00:13<00:00, 15.1MB/s] \n",
      "Downloading data: 100%|██████████| 208M/208M [00:13<00:00, 15.6MB/s] \n",
      "Downloading data: 100%|██████████| 58.6M/58.6M [00:05<00:00, 10.8MB/s]\n",
      "Downloading data: 100%|██████████| 58.5M/58.5M [00:05<00:00, 11.0MB/s]\n",
      "Generating train split: 100%|██████████| 119924/119924 [00:03<00:00, 31289.95 examples/s]\n",
      "Generating validation split: 100%|██████████| 6633/6633 [00:00<00:00, 27065.50 examples/s]\n",
      "Generating test split: 100%|██████████| 6658/6658 [00:00<00:00, 30629.60 examples/s]\n"
     ]
    }
   ],
   "source": [
    "data = load_dataset(\"ccdv/pubmed-summarization\",\"document\",split=\"train[:10]\")"
   ]
  },
  {
   "cell_type": "code",
   "execution_count": 4,
   "metadata": {},
   "outputs": [
    {
     "data": {
      "text/plain": [
       "Dataset({\n",
       "    features: ['article', 'abstract'],\n",
       "    num_rows: 10\n",
       "})"
      ]
     },
     "execution_count": 4,
     "metadata": {},
     "output_type": "execute_result"
    }
   ],
   "source": [
    "data"
   ]
  },
  {
   "cell_type": "code",
   "execution_count": 7,
   "metadata": {},
   "outputs": [
    {
     "data": {
      "text/plain": [
       "\"background : the present study was carried out to assess the effects of community nutrition intervention based on advocacy approach on malnutrition status among school - aged children in shiraz , iran.materials and methods : this case - control nutritional intervention has been done between 2008 and 2009 on 2897 primary and secondary school boys and girls ( 7 - 13 years old ) based on advocacy approach in shiraz , iran . \\n the project provided nutritious snacks in public schools over a 2-year period along with advocacy oriented actions in order to implement and promote nutritional intervention . for evaluation of effectiveness of the intervention growth monitoring indices of pre- and post - intervention were statistically compared.results:the frequency of subjects with body mass index lower than 5% decreased significantly after intervention among girls ( p = 0.02 ) . \\n however , there were no significant changes among boys or total population . \\n the mean of all anthropometric indices changed significantly after intervention both among girls and boys as well as in total population . \\n the pre- and post - test education assessment in both groups showed that the student 's average knowledge score has been significantly increased from 12.5  3.2 to 16.8  4.3 ( p < 0.0001).conclusion : this study demonstrates the potential success and scalability of school feeding programs in iran . \\n community nutrition intervention based on the advocacy process model is effective on reducing the prevalence of underweight specifically among female school aged children . backgroundanemia in patients with cancer who are undergoing active therapy is commonly encountered and may worsen quality of life in these patients . the effect of blood transfusion is often temporary and may be associated with serious adverse events . \\n erythropoiesis - stimulating agents are not effective in 30%50% of patients and may have a negative effect on overall survival.aimsto assess the efficacy and feasibility of intravenous iron therapy in patients with cancer who have non - iron - deficiency anemia and who are undergoing treatment with chemotherapy without the use of erythropoiesis - stimulating agents.methodsadult patients with solid cancers and non - iron - deficiency anemia were included . \\n ferric sucrose at a dose of 200 mg was given in short intravenous infusions weekly for a total of 12 weeks . \\n hemoglobin level was measured at baseline , every 3 weeks , and 2 weeks after the last iron infusion ( week 14 ) . \\n adverse events related to intravenous iron were prospectively reported.resultsof 25 patients included , 19 ( 76.0% ) completed at least three iron infusions and 14 ( 56.0% ) finished the planned 12 weeks of therapy . \\n the mean hemoglobin level of the 25 patients at baseline was 9.6 g / dl ( median , 9.9 g / dl ; range , 6.9 g / dl 10.9 g / dl ) . the mean change in hemoglobin level for the 15 patients who completed at least 9 treatments was 1.7 g / dl ( median , 1.1 g / dl ; range , 1.9 g / dl to 3.2 g / dl ) ; it reached 2.1 g / dl ( median , 1.3 g / dl ; range , 0.2 g / dl to 4.6 g / dl ; p = 0.0007 ) for the 14 patients who completed all 12 weekly treatments . \\n five ( 20.0% ) patients were transfused and considered as treatment failures . \\n no treatment - related adverse events were reported.conclusionintravenous iron treatment alone is safe and may reduce blood transfusion requirements and improve hemoglobin level in patients with cancer who are undergoing anticancer therapy . \\n further randomized studies are needed to confirm these findings . tardive dystonia ( td ) is a serious side effect of antipsychotic medications , more with typical antipsychotics , that is potentially irreversible in affected patients . \\n studies show that newer atypical antipsychotics have a lower risk of td . as a result , many clinicians may have developed a false sense of security when prescribing these medications . \\n we report a case of 20-year - old male with hyperthymic temperament and borderline intellectual functioning , who developed severe td after low dose short duration exposure to atypical antipsychotic risperidone and then olanzapine . \\n the goal of this paper is to alert the reader to be judicious and cautious before using casual low dose second generation antipsychotics in patient with no core psychotic features , hyperthymic temperament , or borderline intellectual functioning suggestive of organic brain damage , who are more prone to develop adverse effects such as td and monitor the onset of td in patients taking atypical antipsychotics . many lepidopteran insects are agricultural pests that affect stored grains , food and fiber crops . \\n these insects have negative ecological and economic impacts since they lower crop yield , and pesticides are expensive and can have off - target effects on beneficial arthropods \\n . a better understanding of lepidopteran immunity will aid in identifying new targets for the development of specific insect pest management compounds . \\n a fundamental aspect of immunity , and therefore a logical target for control , is the induction of antimicrobial peptide ( amp ) expression . \\n these peptides insert into and disrupt microbial membranes , thereby promoting pathogen clearance and insect survival . \\n pathways leading to amp expression have been extensively studied in the dipteran drosophila melanogaster . however , diptera are an important group of pollinators and pest management strategies that target their immune systems is not recommended . \\n recent advances have facilitated investigation of lepidopteran immunity , revealing both conserved and derived characteristics . \\n although the general pathways leading to amp expression are conserved , specific components of these pathways , such as recognition proteins have diverged . in this review \\n we highlight how such comparative immunology could aid in developing pest management strategies that are specific to agricultural insect pests . we present an unusual case of recurrent cough syncope in a 43-year - old woman , which was initially thought to be seizures . \\n syncopal episodes were triggered by paroxysms of cough and were characterized by unresponsiveness and myoclonic jerks in her extremities . \\n she had a left - sided glomus jugulare tumor that extended into the posterior cranial fossa with evidence of worsening communicating hydrocephalus on brain imaging . \\n we postulate that bouts of cough produced increased intracranial pressure both by raising intrathoracic and intraabdominal pressures as well as by transient obstruction to cerebrospinal fluid flow secondary to intermittent tonsillar herniation during cough . \\n this resulted in diffuse decrease in cerebral blood flow causing syncope . \\n the patient 's syncopal episodes decreased in frequency once an external ventricular drain was placed followed by a ventriculoperitoneal shunt . \\n search for factors that can increase intracranial pressure seems warranted in patients with recurrent cough syncope . backgroundmicrornas ( mirnas ) play pivotal roles in spermatogenesis . \\n microrna-210 ( mir-210 ) expression was up - regulated in the testes of sterile men with non - obstructive azoospermia ( noa ) . \\n however , the underlying mechanisms of mir-210 involved in the spermatogenesis in patients with noa are unknown.material/methodsexpression of mir-210 and insulin - like growth factor ii ( igf2 ) in the testes of noa cases ( only including maturation arrest and hypospermatogenesis ) were detected in this study . \\n we carried out in vitro experiments to determine if igf2 was directly targeted by mir-210 in nt2 cells.resultscompared with obstructive azoospermia ( oa ) as normal control , our results suggest that mir-210 was significantly up - regulated in testis of patients with noa ( p<0.05 ) , and igf2 was down - regulated , but without a significant difference . \\n the results also indicated that igf2 was directly targeted by mir-210 in nt2 cells.conclusionsthe results showed that mir-210 was involved in spermatogenesis by targeting igf2 in male infertility . objective . \\n the objective of this study was to describe the recent clinical characteristics of labor using 3 systems of japanese midwife - led primary delivery care , as follows : ( 1 ) those intending to give birth at home managed by midwives who do not belong to our hospital , ( 2 ) those planning to give birth in our hospital managed by the same midwives , and ( 3 ) those planning to give birth managed by midwives who belong to our hospital . \\n methods . a retrospective cohort study was performed . \\n results . \\n there were no significant differences in the obstetric or neonatal outcomes among the 3 groups . \\n the rate of transfers during labor with the system involving midwives belonging to our hospital was higher than those with the other 2 systems . \\n in addition , the timing of transfers in the system with the midwives belonging to our hospital was earlier than with the other 2 systems . among the 3 groups , \\n there were no significant differences in the rate of the main 2 indications for transfers : fetal heart rate abnormality and failure to progress . conclusion . \\n there were no significant differences in perinatal outcomes among the 3 systems ; however , there were some differences in the status of transfers to obstetric shared care . type 2 diabetes is characterized by insulin resistance , and enpp1 plays an important role in insulin resistance . \\n we investigated the association of the enpp1 k121q polymorphism with both diabetes and obesity ( body mass index [ bmi ] ) in korean male workers . \\n the study design was case - control . \\n subjects were 1,945 male workers ( type 2 diabetes , 195 ; non - diabetes , 1,750 ) of nuclear power plants who received examinations from march to october in 2004 . \\n we collected venous blood samples under fasting ( 8 hr ) conditions , calculated bmi by height and weight , and assessed relevant biochemical factors . \\n the results of this study demonstrated that the enpp1 121q genotype ( kq+qq types ) was not associated with type 2 diabetes ( odds ratios [ or ] , 0.854 ; 95% confidence interval [ ci ] , 0.571 - 1.278 ) or obesity ( or , 0.933 ; 95% ci , 0.731 - 1.190 ) . \\n in addition , the frequency of the q allele was not related to type 2 diabetes ( or , 0.911 ; 95% ci , 0.630 - 1.319 ) or obesity ( or , 0.962 ; 95% ci , 0.767 - 1.205 ) . \\n we concluded that the enpp1 121q allele is not a critical determinant for either diabetes or obesity in korean males . \\n the discordance between the results of this study and those derived from studies of dominican , south asian , caucasian , finnish , and french populations might be due to differences in genetic backgrounds between these populations . lipid apheresis is used to treat patients with severe hyperlipidemia by reducing low - density lipoprotein cholesterol ( ldl - c ) . \\n this study examines the effect of apheresis on the lipid panel and cardiac event rates before and after apheresis . \\n an electronic health record screen of ambulatory patients identified 11 active patients undergoing lipid apheresis with 10/11 carrying a diagnosis of fh . \\n baseline demographics , pre- and postapheresis lipid levels , highest recorded ldl - c , cardiac events , current medications , and first apheresis treatment were recorded . \\n patients completed a questionnaire and self - reported risk factors and interest in alternative treatment . \\n there were significant reductions in mean total cholesterol ( 58.4% ) , ldl - c ( 71.9% ) , triglycerides ( 51% ) , high - density lipoprotein ( hdl ) cholesterol ( 9.3% ) , and non - hdl ( 68.2% ) values . \\n thirty - four cardiac events were documented in 8 patients before apheresis , compared with 9 events in 5 patients after apheresis . \\n our survey showed a high prevalence of statin intolerance ( 64% ) , with the majority ( 90% ) of participants indicating an interest in alternative treatment options . \\n our results have shown that lipid apheresis primary effect is a marked reduction in ldl - c cholesterol levels and may reduce the recurrence of cardiac events . \\n apheresis should be compared to the newer alternative treatment modalities in a randomized fashion due to patient interest in alternative options . background : agenesis of the inferior vena cava ( ivc ) as a cause of recurrent deep vein thrombosis ( dvt ) is uncommon.case:a 33-year - old male with no family history of thrombophilia , who had experienced multiple recurrent episodes of dvt over a 15-year period of unknown cause , was admitted into our hospital because of cellulitis in the right leg . \\n computer tomography with contrast of the abdomen showed an absence of ivc.conclusion:congenital absence of the ivc could be a rare risk factor for idiopathic dvt , especially in young individuals .\""
      ]
     },
     "execution_count": 7,
     "metadata": {},
     "output_type": "execute_result"
    }
   ],
   "source": [
    "data_final = \" \".join(data['abstract'])\n",
    "data_final"
   ]
  },
  {
   "cell_type": "code",
   "execution_count": 8,
   "metadata": {},
   "outputs": [],
   "source": [
    "import tiktoken\n",
    "tokenizer = tiktoken.get_encoding('cl100k_base')"
   ]
  },
  {
   "cell_type": "code",
   "execution_count": null,
   "metadata": {},
   "outputs": [],
   "source": []
  }
 ],
 "metadata": {
  "kernelspec": {
   "display_name": "base",
   "language": "python",
   "name": "python3"
  },
  "language_info": {
   "codemirror_mode": {
    "name": "ipython",
    "version": 3
   },
   "file_extension": ".py",
   "mimetype": "text/x-python",
   "name": "python",
   "nbconvert_exporter": "python",
   "pygments_lexer": "ipython3",
   "version": "3.11.9"
  }
 },
 "nbformat": 4,
 "nbformat_minor": 2
}
